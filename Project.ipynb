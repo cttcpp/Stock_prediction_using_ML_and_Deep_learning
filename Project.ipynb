{
 "cells": [
  {
   "cell_type": "markdown",
   "metadata": {},
   "source": [
    "For example, a project that performs various binary classification methods on a social science dataset you may want to focus on data munging, method selection, method evaluation, feature extraction, and presentation of analysis."
   ]
  },
  {
   "cell_type": "markdown",
   "metadata": {},
   "source": [
    "# Prediction of stock raise/fall using state-of-the-art Machine Learning and Deep Learning methods.\n",
    "\n",
    "## STA208 Final project"
   ]
  },
  {
   "cell_type": "markdown",
   "metadata": {},
   "source": [
    "Sample outline:\n",
    "\n",
    "1. Introduction\n",
    "   - stock price prediction challanges, relation to news, why ML and Deep learning approach might work\n",
    "2. data munging and feature extraction\n",
    "   - scraping of news data from motleyfool.com\n",
    "   - getting the sentiment scores using the dictionary of positive and negative words\n",
    "   - designing a \"sentiment\" feature, word cloud for one POSITIVE and one NEGATIVE articles\n",
    "   - quandl.api to get the data, etc...\n",
    "3. method selection, evaluation, and comparison\n",
    "   - baseline classification methods, logistic regression, SVM, random forest\n",
    "   - feed forward neural nets, recurrent neural nets (description also)\n",
    "   - tuning the neural net parameters, etc.\n",
    "4. results and conclusion\n",
    "   - comparison of accuracy results, confusion matrix, ROC, PR, curves, etc."
   ]
  },
  {
   "cell_type": "markdown",
   "metadata": {},
   "source": [
    "# 1. Introduction"
   ]
  },
  {
   "cell_type": "markdown",
   "metadata": {},
   "source": [
    "general"
   ]
  },
  {
   "cell_type": "markdown",
   "metadata": {},
   "source": []
  },
  {
   "cell_type": "markdown",
   "metadata": {},
   "source": [
    "# 2. Data Munging and Feature Extraction\n",
    "\n",
    "1. www.motleyfool.com scraping"
   ]
  },
  {
   "cell_type": "code",
   "execution_count": null,
   "metadata": {
    "collapsed": true
   },
   "outputs": [],
   "source": [
    "import requests\n",
    "import requests_ftp\n",
    "import requests_cache\n",
    "import lxml\n",
    "import itertools\n",
    "import pandas as pd\n",
    "import re\n",
    "import numpy as np\n",
    "import string\n",
    "from bs4 import BeautifulSoup\n",
    "from collections import Counter\n",
    "from matplotlib import pyplot as plt\n",
    "from wordcloud import WordCloud\n",
    "from scipy.misc import imread\n",
    "plt.style.use('ggplot')"
   ]
  },
  {
   "cell_type": "code",
   "execution_count": null,
   "metadata": {
    "collapsed": true
   },
   "outputs": [],
   "source": [
    "def motley_page_links(page):\n",
    "    \"\"\"\n",
    "    Given a page number, it returns all article links.\n",
    "    \n",
    "    Input: a page number (default = 1)\n",
    "    Output: a list with links on the given page\n",
    "    \"\"\"\n",
    "    \n",
    "    response = requests.get(\n",
    "        'https://www.fool.com/search/solr.aspx?page={}&q=apple&sort=date&source=isesitbut0000001'.format(page))\n",
    "    response.raise_for_status()\n",
    "    html = response.text\n",
    "    parsed_html = BeautifulSoup(html, 'lxml')\n",
    "\n",
    "    div_with_links = parsed_html.find_all(name = 'dl',\n",
    "                                         attrs = {'class' : 'results'})\n",
    "    links = []\n",
    "    for link in div_with_links[0].find_all('a', href = True):\n",
    "        links.append(link['href'])\n",
    "    \n",
    "    return links\n",
    "\n",
    "def motley_all_links(no_pages = 1):\n",
    "    \"\"\"\n",
    "    Given number of pages, it returns all the links \n",
    "    from \"no_pages\"\n",
    "    \n",
    "    Input: number of pages (default = 1)\n",
    "    Output: a list with links from the pages\n",
    "    \"\"\"\n",
    "    all_links = []\n",
    "    for page in range(1, (no_pages + 1)):\n",
    "        all_links.extend(motley_page_links(page))\n",
    "    \n",
    "    return all_links\n",
    "\n",
    "def motley_article_info(url):\n",
    "    \"\"\"\n",
    "    Given an article url, it returns title, date, content\n",
    "    and url of that article.\n",
    "    \n",
    "    Input: article url\n",
    "    Ouput: a dictionary with 'title', 'date',\n",
    "    'article', and 'url' as keys.\n",
    "    \"\"\"\n",
    "    \n",
    "    response = requests.get(url)\n",
    "    response.raise_for_status()\n",
    "    html = response.text\n",
    "    parsed_html = BeautifulSoup(html, 'lxml')\n",
    "    content = parsed_html.find_all(name = 'div',\n",
    "                                      attrs = {'class' : 'full_article'})\n",
    "\n",
    "    date = parsed_html.find_all(name = 'div', attrs = {'class' : 'publication-date'})[0].text.strip()\n",
    "    title = parsed_html.find_all('h1')[0].text\n",
    "    article = ' '.join([t.text for t in content[0].find_all('p')])\n",
    "    \n",
    "    return {'title'   : title,\n",
    "            'date'    : date,\n",
    "            'article' : article,\n",
    "            'url'     : url}\n",
    "\n",
    "def motley_df(no_pages):\n",
    "    \"\"\"\n",
    "    Creates DataFrame for the articles in url\n",
    "    with author, text, title, and url as column\n",
    "    names.\n",
    "    \n",
    "    Input: A url, number of pages\n",
    "    Output: DataFrame with 4 columns: author,\n",
    "    text, title, and url.\n",
    "    \"\"\"\n",
    "    \n",
    "    #get all links in the specified number of pages\n",
    "    #from url\n",
    "    links = motley_all_links(no_pages)\n",
    "    \n",
    "    #create dataframe for each link and\n",
    "    #combine them into one dataframe\n",
    "    article_df = pd.DataFrame(index = [999999], columns=['article', 'date', 'title', 'url'])\n",
    "    for i, link in enumerate(links):\n",
    "        try:\n",
    "            append_to = pd.DataFrame(motley_article_info(link), index = [i])\n",
    "            article_df = article_df.append(append_to)\n",
    "        except:\n",
    "            pass\n",
    "    \n",
    "    article_df = article_df.drop(999999)\n",
    "    return article_df\n",
    "\n",
    "#df = motley_df(1000)\n",
    "#convert_to_csv(df, \"motleyfool.csv\")"
   ]
  },
  {
   "cell_type": "markdown",
   "metadata": {},
   "source": [
    "2.\n",
    "sentiment scoring"
   ]
  },
  {
   "cell_type": "code",
   "execution_count": null,
   "metadata": {
    "collapsed": true
   },
   "outputs": [],
   "source": [
    "import pandas as pd\n",
    "import numpy as np\n",
    "from collections import Counter\n",
    "import matplotlib.pyplot as plt"
   ]
  },
  {
   "cell_type": "code",
   "execution_count": null,
   "metadata": {
    "collapsed": true
   },
   "outputs": [],
   "source": [
    "motley = pd.read_csv('motleyfool.csv')\n",
    "\n",
    "negative = pd.read_csv('negative-words.txt', sep = ' ', header = None)\n",
    "positive = pd.read_csv('positive-words.txt', sep=' ', header=None)\n",
    "\n",
    "def score_word(word):\n",
    "    \"\"\"\n",
    "    returns -1 if negative meaning, +1 if positive meaning,\n",
    "    else 0\n",
    "    \n",
    "    input: a word\n",
    "    ouput: -1, 0, or + 1\n",
    "    \"\"\"\n",
    "    if word.lower() in negative.values:\n",
    "        return -1\n",
    "    elif word.lower() in positive.values:\n",
    "        return +1\n",
    "    return 0\n",
    "\n",
    "def get_scores(article):\n",
    "    \"\"\"\n",
    "    returns sentiment scores for a given article\n",
    "    \n",
    "    input: an article\n",
    "    output: sentiment score\n",
    "    \"\"\"\n",
    "    wordsArticle = article.split(' ')\n",
    "    scores = [score_word(word) for word in wordsArticle]\n",
    "    return sum(scores)\n",
    "\n",
    "motley['sentiment'] = motley['article'].apply(get_scores)\n",
    "\n",
    "plt.hist(motley.sentiment, bins=50)\n",
    "plt.xlabel('sentiment scores')\n",
    "plt.ylabel('frequency')\n",
    "plt.title('Distribution of sentiment scores of articles');\n",
    "\n",
    "# motley.to_csv('motley_with_s_scores.csv', encoding='utf-8')"
   ]
  },
  {
   "cell_type": "markdown",
   "metadata": {},
   "source": [
    "3.\n",
    "merging data sets\n",
    "\n",
    "APPLE stock data was obtained using \"quandl.com\" API at \"https://www.quandl.com/api/v3/datasets/WIKI/AAPL.csv\""
   ]
  },
  {
   "cell_type": "code",
   "execution_count": null,
   "metadata": {
    "collapsed": true
   },
   "outputs": [],
   "source": [
    "aapl = pd.read_csv(path+'WIKI_PRICES_AAPL.csv')\n",
    "fool = pd.read_csv(path+'motley_with_s_scores.csv')"
   ]
  },
  {
   "cell_type": "code",
   "execution_count": null,
   "metadata": {
    "collapsed": true
   },
   "outputs": [],
   "source": [
    "def format_df(stock_df, news_df, word):\n",
    "    \"\"\"\n",
    "    merges stock_df and news_df on \"date\"\n",
    "    column\n",
    "    \n",
    "    input: stock df, news df, word\n",
    "    output: merged df\n",
    "    \"\"\"\n",
    "    \n",
    "    stock_df['diff'] = stock_df['close']-stock_df['open']\n",
    "    news_df['Count'] = news_df['article'].apply(lambda x: x.count(word))\n",
    "    news_df.loc[news_df['Count'] <= 5, 'sentiment'] = 0\n",
    "    news_df['date'] = pd.to_datetime(news_df['date'])\n",
    "    news_df['date'] = news_df['date'].dt.strftime('%Y-%m-%d')\n",
    "    news_df = news_df.groupby(['date'], as_index = False).sum()\n",
    "    news_df = news_df[['date', 'sentiment', 'Count']]\n",
    "    merged_df = pd.merge(news_df, stock_df)\n",
    "    merged_df['bin_sentiment'] = pd.cut(merged_df['sentiment'], [-np.inf, -0.001, 0.001, np.inf], labels = [-1, 0, 1])\n",
    "    merged_df['bin_diff'] = pd.cut(merged_df['diff'], [-np.inf, -0.001, 0.001, np.inf], labels = [-1, 0, 1])\n",
    "    return merged_df"
   ]
  },
  {
   "cell_type": "code",
   "execution_count": null,
   "metadata": {
    "collapsed": true
   },
   "outputs": [],
   "source": [
    "merged_df = format_df(aapl, fool, 'Apple')\n",
    "merged_df.head()\n",
    "#merged_df.to_csv('merged_df.csv', encoding='utf-8')"
   ]
  },
  {
   "cell_type": "code",
   "execution_count": null,
   "metadata": {
    "collapsed": true
   },
   "outputs": [],
   "source": []
  },
  {
   "cell_type": "code",
   "execution_count": null,
   "metadata": {
    "collapsed": true
   },
   "outputs": [],
   "source": []
  },
  {
   "cell_type": "markdown",
   "metadata": {},
   "source": [
    "# 3. Methods selection, evaluation"
   ]
  },
  {
   "cell_type": "markdown",
   "metadata": {},
   "source": [
    "write more about it"
   ]
  },
  {
   "cell_type": "code",
   "execution_count": null,
   "metadata": {
    "collapsed": true
   },
   "outputs": [],
   "source": []
  },
  {
   "cell_type": "code",
   "execution_count": null,
   "metadata": {
    "collapsed": true
   },
   "outputs": [],
   "source": []
  },
  {
   "cell_type": "code",
   "execution_count": 1,
   "metadata": {
    "collapsed": true
   },
   "outputs": [],
   "source": [
    "import tensorflow as tf\n",
    "from  tensorflow.contrib.learn.python.learn.estimators.dnn  import DNNClassifier\n",
    "from tensorflow.contrib.layers import real_valued_column"
   ]
  },
  {
   "cell_type": "code",
   "execution_count": 113,
   "metadata": {
    "collapsed": true
   },
   "outputs": [],
   "source": [
    "apple = pd.read_csv('merged_df.csv')"
   ]
  },
  {
   "cell_type": "code",
   "execution_count": 115,
   "metadata": {},
   "outputs": [
    {
     "data": {
      "text/html": [
       "<div>\n",
       "<table border=\"1\" class=\"dataframe\">\n",
       "  <thead>\n",
       "    <tr style=\"text-align: right;\">\n",
       "      <th></th>\n",
       "      <th>Unnamed: 0</th>\n",
       "      <th>date</th>\n",
       "      <th>sentiment</th>\n",
       "      <th>Count</th>\n",
       "      <th>ticker</th>\n",
       "      <th>open</th>\n",
       "      <th>high</th>\n",
       "      <th>low</th>\n",
       "      <th>close</th>\n",
       "      <th>volume</th>\n",
       "      <th>ex-dividend</th>\n",
       "      <th>split_ratio</th>\n",
       "      <th>adj_open</th>\n",
       "      <th>adj_high</th>\n",
       "      <th>adj_low</th>\n",
       "      <th>adj_close</th>\n",
       "      <th>adj_volume</th>\n",
       "      <th>diff</th>\n",
       "      <th>bin_sentiment</th>\n",
       "      <th>bin_diff</th>\n",
       "    </tr>\n",
       "  </thead>\n",
       "  <tbody>\n",
       "    <tr>\n",
       "      <th>0</th>\n",
       "      <td>0</td>\n",
       "      <td>2014-05-05</td>\n",
       "      <td>53</td>\n",
       "      <td>133</td>\n",
       "      <td>AAPL</td>\n",
       "      <td>590.14</td>\n",
       "      <td>601.0000</td>\n",
       "      <td>590.00</td>\n",
       "      <td>600.9600</td>\n",
       "      <td>10252400.0</td>\n",
       "      <td>0.00</td>\n",
       "      <td>1.0</td>\n",
       "      <td>79.229879</td>\n",
       "      <td>80.687900</td>\n",
       "      <td>79.211083</td>\n",
       "      <td>80.682530</td>\n",
       "      <td>71766800.0</td>\n",
       "      <td>10.8200</td>\n",
       "      <td>1</td>\n",
       "      <td>1</td>\n",
       "    </tr>\n",
       "    <tr>\n",
       "      <th>1</th>\n",
       "      <td>1</td>\n",
       "      <td>2014-05-06</td>\n",
       "      <td>15</td>\n",
       "      <td>177</td>\n",
       "      <td>AAPL</td>\n",
       "      <td>601.80</td>\n",
       "      <td>604.4099</td>\n",
       "      <td>594.41</td>\n",
       "      <td>594.4100</td>\n",
       "      <td>13377300.0</td>\n",
       "      <td>0.00</td>\n",
       "      <td>1.0</td>\n",
       "      <td>80.795305</td>\n",
       "      <td>81.145700</td>\n",
       "      <td>79.803152</td>\n",
       "      <td>79.803152</td>\n",
       "      <td>93641100.0</td>\n",
       "      <td>-7.3900</td>\n",
       "      <td>1</td>\n",
       "      <td>-1</td>\n",
       "    </tr>\n",
       "    <tr>\n",
       "      <th>2</th>\n",
       "      <td>2</td>\n",
       "      <td>2014-05-07</td>\n",
       "      <td>40</td>\n",
       "      <td>134</td>\n",
       "      <td>AAPL</td>\n",
       "      <td>595.25</td>\n",
       "      <td>597.2900</td>\n",
       "      <td>587.73</td>\n",
       "      <td>592.3300</td>\n",
       "      <td>10102300.0</td>\n",
       "      <td>0.00</td>\n",
       "      <td>1.0</td>\n",
       "      <td>79.915927</td>\n",
       "      <td>80.189810</td>\n",
       "      <td>78.906322</td>\n",
       "      <td>79.523900</td>\n",
       "      <td>70716100.0</td>\n",
       "      <td>-2.9200</td>\n",
       "      <td>1</td>\n",
       "      <td>-1</td>\n",
       "    </tr>\n",
       "    <tr>\n",
       "      <th>3</th>\n",
       "      <td>3</td>\n",
       "      <td>2014-05-08</td>\n",
       "      <td>31</td>\n",
       "      <td>109</td>\n",
       "      <td>AAPL</td>\n",
       "      <td>588.25</td>\n",
       "      <td>594.4100</td>\n",
       "      <td>586.40</td>\n",
       "      <td>587.9900</td>\n",
       "      <td>8224900.0</td>\n",
       "      <td>3.29</td>\n",
       "      <td>1.0</td>\n",
       "      <td>79.418033</td>\n",
       "      <td>80.249678</td>\n",
       "      <td>79.168269</td>\n",
       "      <td>79.382931</td>\n",
       "      <td>57574300.0</td>\n",
       "      <td>-0.2600</td>\n",
       "      <td>1</td>\n",
       "      <td>-1</td>\n",
       "    </tr>\n",
       "    <tr>\n",
       "      <th>4</th>\n",
       "      <td>4</td>\n",
       "      <td>2014-05-09</td>\n",
       "      <td>3</td>\n",
       "      <td>67</td>\n",
       "      <td>AAPL</td>\n",
       "      <td>584.54</td>\n",
       "      <td>586.2500</td>\n",
       "      <td>580.33</td>\n",
       "      <td>585.5425</td>\n",
       "      <td>10414200.0</td>\n",
       "      <td>0.00</td>\n",
       "      <td>1.0</td>\n",
       "      <td>78.917156</td>\n",
       "      <td>79.148018</td>\n",
       "      <td>78.348775</td>\n",
       "      <td>79.052500</td>\n",
       "      <td>72899400.0</td>\n",
       "      <td>1.0025</td>\n",
       "      <td>1</td>\n",
       "      <td>1</td>\n",
       "    </tr>\n",
       "  </tbody>\n",
       "</table>\n",
       "</div>"
      ],
      "text/plain": [
       "   Unnamed: 0        date  sentiment  Count ticker    open      high     low  \\\n",
       "0           0  2014-05-05         53    133   AAPL  590.14  601.0000  590.00   \n",
       "1           1  2014-05-06         15    177   AAPL  601.80  604.4099  594.41   \n",
       "2           2  2014-05-07         40    134   AAPL  595.25  597.2900  587.73   \n",
       "3           3  2014-05-08         31    109   AAPL  588.25  594.4100  586.40   \n",
       "4           4  2014-05-09          3     67   AAPL  584.54  586.2500  580.33   \n",
       "\n",
       "      close      volume  ex-dividend  split_ratio   adj_open   adj_high  \\\n",
       "0  600.9600  10252400.0         0.00          1.0  79.229879  80.687900   \n",
       "1  594.4100  13377300.0         0.00          1.0  80.795305  81.145700   \n",
       "2  592.3300  10102300.0         0.00          1.0  79.915927  80.189810   \n",
       "3  587.9900   8224900.0         3.29          1.0  79.418033  80.249678   \n",
       "4  585.5425  10414200.0         0.00          1.0  78.917156  79.148018   \n",
       "\n",
       "     adj_low  adj_close  adj_volume     diff  bin_sentiment  bin_diff  \n",
       "0  79.211083  80.682530  71766800.0  10.8200              1         1  \n",
       "1  79.803152  79.803152  93641100.0  -7.3900              1        -1  \n",
       "2  78.906322  79.523900  70716100.0  -2.9200              1        -1  \n",
       "3  79.168269  79.382931  57574300.0  -0.2600              1        -1  \n",
       "4  78.348775  79.052500  72899400.0   1.0025              1         1  "
      ]
     },
     "execution_count": 115,
     "metadata": {},
     "output_type": "execute_result"
    }
   ],
   "source": [
    "apple.head()"
   ]
  },
  {
   "cell_type": "code",
   "execution_count": 334,
   "metadata": {},
   "outputs": [
    {
     "data": {
      "text/html": [
       "<div>\n",
       "<table border=\"1\" class=\"dataframe\">\n",
       "  <thead>\n",
       "    <tr style=\"text-align: right;\">\n",
       "      <th></th>\n",
       "      <th>date</th>\n",
       "      <th>adj_volume</th>\n",
       "      <th>sentiment</th>\n",
       "      <th>bin_diff</th>\n",
       "    </tr>\n",
       "  </thead>\n",
       "  <tbody>\n",
       "    <tr>\n",
       "      <th>0</th>\n",
       "      <td>2014-05-05</td>\n",
       "      <td>71766800.0</td>\n",
       "      <td>53</td>\n",
       "      <td>1</td>\n",
       "    </tr>\n",
       "    <tr>\n",
       "      <th>1</th>\n",
       "      <td>2014-05-06</td>\n",
       "      <td>93641100.0</td>\n",
       "      <td>15</td>\n",
       "      <td>-1</td>\n",
       "    </tr>\n",
       "    <tr>\n",
       "      <th>2</th>\n",
       "      <td>2014-05-07</td>\n",
       "      <td>70716100.0</td>\n",
       "      <td>40</td>\n",
       "      <td>-1</td>\n",
       "    </tr>\n",
       "    <tr>\n",
       "      <th>3</th>\n",
       "      <td>2014-05-08</td>\n",
       "      <td>57574300.0</td>\n",
       "      <td>31</td>\n",
       "      <td>-1</td>\n",
       "    </tr>\n",
       "    <tr>\n",
       "      <th>4</th>\n",
       "      <td>2014-05-09</td>\n",
       "      <td>72899400.0</td>\n",
       "      <td>3</td>\n",
       "      <td>1</td>\n",
       "    </tr>\n",
       "  </tbody>\n",
       "</table>\n",
       "</div>"
      ],
      "text/plain": [
       "         date  adj_volume  sentiment  bin_diff\n",
       "0  2014-05-05  71766800.0         53         1\n",
       "1  2014-05-06  93641100.0         15        -1\n",
       "2  2014-05-07  70716100.0         40        -1\n",
       "3  2014-05-08  57574300.0         31        -1\n",
       "4  2014-05-09  72899400.0          3         1"
      ]
     },
     "execution_count": 334,
     "metadata": {},
     "output_type": "execute_result"
    }
   ],
   "source": [
    "aapl = apple.copy()[['date', 'adj_volume', 'sentiment', 'bin_diff']]\n",
    "aapl.head()"
   ]
  },
  {
   "cell_type": "code",
   "execution_count": 434,
   "metadata": {
    "collapsed": true
   },
   "outputs": [],
   "source": [
    "from sklearn import linear_model\n",
    "logreg = linear_model.LogisticRegression(C=1)"
   ]
  },
  {
   "cell_type": "code",
   "execution_count": 336,
   "metadata": {},
   "outputs": [],
   "source": [
    "InputDF = aapl.copy().drop('bin_diff', axis = 1)\n",
    "InputDF = InputDF.set_index('date')"
   ]
  },
  {
   "cell_type": "code",
   "execution_count": 340,
   "metadata": {
    "collapsed": true
   },
   "outputs": [],
   "source": [
    "label = pd.qcut(apple['diff'], 2,labels=range(2))"
   ]
  },
  {
   "cell_type": "code",
   "execution_count": 341,
   "metadata": {},
   "outputs": [
    {
     "data": {
      "text/plain": [
       "[1, 0, 0, 0, 1, ..., 0, 0, 1, 0, 1]\n",
       "Length: 779\n",
       "Categories (2, int64): [0 < 1]"
      ]
     },
     "execution_count": 341,
     "metadata": {},
     "output_type": "execute_result"
    }
   ],
   "source": [
    "label.values"
   ]
  },
  {
   "cell_type": "code",
   "execution_count": 342,
   "metadata": {},
   "outputs": [
    {
     "data": {
      "text/html": [
       "<div>\n",
       "<table border=\"1\" class=\"dataframe\">\n",
       "  <thead>\n",
       "    <tr style=\"text-align: right;\">\n",
       "      <th></th>\n",
       "      <th>adj_volume</th>\n",
       "      <th>sentiment</th>\n",
       "    </tr>\n",
       "    <tr>\n",
       "      <th>date</th>\n",
       "      <th></th>\n",
       "      <th></th>\n",
       "    </tr>\n",
       "  </thead>\n",
       "  <tbody>\n",
       "    <tr>\n",
       "      <th>2014-05-05</th>\n",
       "      <td>71766800.0</td>\n",
       "      <td>53</td>\n",
       "    </tr>\n",
       "    <tr>\n",
       "      <th>2014-05-06</th>\n",
       "      <td>93641100.0</td>\n",
       "      <td>15</td>\n",
       "    </tr>\n",
       "    <tr>\n",
       "      <th>2014-05-07</th>\n",
       "      <td>70716100.0</td>\n",
       "      <td>40</td>\n",
       "    </tr>\n",
       "    <tr>\n",
       "      <th>2014-05-08</th>\n",
       "      <td>57574300.0</td>\n",
       "      <td>31</td>\n",
       "    </tr>\n",
       "    <tr>\n",
       "      <th>2014-05-09</th>\n",
       "      <td>72899400.0</td>\n",
       "      <td>3</td>\n",
       "    </tr>\n",
       "  </tbody>\n",
       "</table>\n",
       "</div>"
      ],
      "text/plain": [
       "            adj_volume  sentiment\n",
       "date                             \n",
       "2014-05-05  71766800.0         53\n",
       "2014-05-06  93641100.0         15\n",
       "2014-05-07  70716100.0         40\n",
       "2014-05-08  57574300.0         31\n",
       "2014-05-09  72899400.0          3"
      ]
     },
     "execution_count": 342,
     "metadata": {},
     "output_type": "execute_result"
    }
   ],
   "source": [
    "InputDF.head()"
   ]
  },
  {
   "cell_type": "code",
   "execution_count": 343,
   "metadata": {
    "collapsed": true
   },
   "outputs": [],
   "source": [
    "InputDF = InputDF.apply(lambda x:(x -x.mean())/x.std())"
   ]
  },
  {
   "cell_type": "code",
   "execution_count": 344,
   "metadata": {},
   "outputs": [
    {
     "data": {
      "text/html": [
       "<div>\n",
       "<table border=\"1\" class=\"dataframe\">\n",
       "  <thead>\n",
       "    <tr style=\"text-align: right;\">\n",
       "      <th></th>\n",
       "      <th>adj_volume</th>\n",
       "      <th>sentiment</th>\n",
       "    </tr>\n",
       "    <tr>\n",
       "      <th>date</th>\n",
       "      <th></th>\n",
       "      <th></th>\n",
       "    </tr>\n",
       "  </thead>\n",
       "  <tbody>\n",
       "    <tr>\n",
       "      <th>2014-05-05</th>\n",
       "      <td>1.255323</td>\n",
       "      <td>0.693098</td>\n",
       "    </tr>\n",
       "    <tr>\n",
       "      <th>2014-05-06</th>\n",
       "      <td>2.270155</td>\n",
       "      <td>-0.496574</td>\n",
       "    </tr>\n",
       "    <tr>\n",
       "      <th>2014-05-07</th>\n",
       "      <td>1.206577</td>\n",
       "      <td>0.286105</td>\n",
       "    </tr>\n",
       "    <tr>\n",
       "      <th>2014-05-08</th>\n",
       "      <td>0.596879</td>\n",
       "      <td>0.004340</td>\n",
       "    </tr>\n",
       "    <tr>\n",
       "      <th>2014-05-09</th>\n",
       "      <td>1.307868</td>\n",
       "      <td>-0.872260</td>\n",
       "    </tr>\n",
       "  </tbody>\n",
       "</table>\n",
       "</div>"
      ],
      "text/plain": [
       "            adj_volume  sentiment\n",
       "date                             \n",
       "2014-05-05    1.255323   0.693098\n",
       "2014-05-06    2.270155  -0.496574\n",
       "2014-05-07    1.206577   0.286105\n",
       "2014-05-08    0.596879   0.004340\n",
       "2014-05-09    1.307868  -0.872260"
      ]
     },
     "execution_count": 344,
     "metadata": {},
     "output_type": "execute_result"
    }
   ],
   "source": [
    "InputDF.head()"
   ]
  },
  {
   "cell_type": "code",
   "execution_count": 345,
   "metadata": {
    "collapsed": true
   },
   "outputs": [],
   "source": [
    "test_size = 600\n",
    "xtrain, xtest = InputDF.iloc[:test_size, :], InputDF.iloc[test_size:, :]\n",
    "ytrain, ytest = label[:test_size], label[test_size:]"
   ]
  },
  {
   "cell_type": "markdown",
   "metadata": {},
   "source": [
    "## Support Vector Machines"
   ]
  },
  {
   "cell_type": "code",
   "execution_count": 435,
   "metadata": {},
   "outputs": [
    {
     "name": "stdout",
     "output_type": "stream",
     "text": [
      "             precision    recall  f1-score   support\n",
      "\n",
      "          0       0.45      0.73      0.55        83\n",
      "          1       0.48      0.21      0.29        96\n",
      "\n",
      "avg / total       0.46      0.45      0.41       179\n",
      "\n",
      "[[61 22]\n",
      " [76 20]]\n"
     ]
    },
    {
     "data": {
      "image/png": "[encoded data removed]",
      "text/plain": [
       "<matplotlib.figure.Figure at 0x1216b1f98>"
      ]
     },
     "metadata": {},
     "output_type": "display_data"
    }
   ],
   "source": [
    "from sklearn.svm import SVC\n",
    "svm = SVC()\n",
    "res = svm.fit(xtrain, ytrain)\n",
    "\n",
    "from sklearn.metrics import classification_report,confusion_matrix\n",
    "\n",
    "print (classification_report(ytest , res.predict(xtest)))\n",
    "print (confusion_matrix(ytest, res.predict(xtest)))\n",
    "plt.hist(ytest);"
   ]
  },
  {
   "cell_type": "markdown",
   "metadata": {},
   "source": [
    "## Logistic regression"
   ]
  },
  {
   "cell_type": "code",
   "execution_count": 436,
   "metadata": {},
   "outputs": [
    {
     "name": "stdout",
     "output_type": "stream",
     "text": [
      "             precision    recall  f1-score   support\n",
      "\n",
      "          0       0.46      0.66      0.54        83\n",
      "          1       0.53      0.33      0.41        96\n",
      "\n",
      "avg / total       0.50      0.49      0.47       179\n",
      "\n",
      "[[55 28]\n",
      " [64 32]]\n"
     ]
    },
    {
     "data": {
      "image/png": "[encoded data removed]",
      "text/plain": [
       "<matplotlib.figure.Figure at 0x126312ba8>"
      ]
     },
     "metadata": {},
     "output_type": "display_data"
    }
   ],
   "source": [
    "res = logreg.fit(xtrain, ytrain)\n",
    "\n",
    "from sklearn.metrics import classification_report,confusion_matrix\n",
    "\n",
    "print (classification_report(ytest , res.predict(xtest)))\n",
    "print (confusion_matrix(ytest, res.predict(xtest)))\n",
    "plt.hist(ytest);"
   ]
  },
  {
   "cell_type": "code",
   "execution_count": 437,
   "metadata": {},
   "outputs": [
    {
     "data": {
      "image/png": "[encoded data removed]",
      "text/plain": [
       "<matplotlib.figure.Figure at 0x126241908>"
      ]
     },
     "metadata": {},
     "output_type": "display_data"
    }
   ],
   "source": [
    "plt.hist(res.predict(xtest));"
   ]
  },
  {
   "cell_type": "markdown",
   "metadata": {},
   "source": [
    "## Random Forest Tree Classifiers"
   ]
  },
  {
   "cell_type": "code",
   "execution_count": null,
   "metadata": {
    "collapsed": true
   },
   "outputs": [],
   "source": []
  },
  {
   "cell_type": "code",
   "execution_count": null,
   "metadata": {
    "collapsed": true
   },
   "outputs": [],
   "source": []
  },
  {
   "cell_type": "markdown",
   "metadata": {},
   "source": [
    "## Feed Forward Neural Network"
   ]
  },
  {
   "cell_type": "code",
   "execution_count": 465,
   "metadata": {},
   "outputs": [],
   "source": [
    "num_features = len(InputDF.columns)\n",
    "dropout=0.2\n",
    "hidden_1_size = 25\n",
    "hidden_2_size = 5\n",
    "num_classes = label.nunique()\n",
    "NUM_EPOCHS=20\n",
    "BATCH_SIZE=1\n",
    "lr=0.0001\n",
    "np.random.RandomState(52);"
   ]
  },
  {
   "cell_type": "code",
   "execution_count": 466,
   "metadata": {
    "collapsed": true
   },
   "outputs": [],
   "source": [
    "val = (InputDF[:-test_size].values, label[:-test_size].values)\n",
    "train = (InputDF[-test_size:].values, label[-test_size:].values)\n",
    "NUM_TRAIN_BATCHES = int(len(train[0])/BATCH_SIZE)\n",
    "NUM_VAL_BATCHES = int(len(val[1])/BATCH_SIZE)"
   ]
  },
  {
   "cell_type": "code",
   "execution_count": 467,
   "metadata": {
    "collapsed": true
   },
   "outputs": [],
   "source": [
    "class Model():\n",
    "    def __init__(self):\n",
    "        global_step = tf.contrib.framework.get_or_create_global_step()\n",
    "        self.input_data = tf.placeholder(dtype=tf.float32,shape=[None,num_features])\n",
    "        self.target_data = tf.placeholder(dtype=tf.int32,shape=[None])\n",
    "        self.dropout_prob = tf.placeholder(dtype=tf.float32,shape=[])\n",
    "        with tf.variable_scope(\"ff\"):\n",
    "            droped_input = tf.nn.dropout(self.input_data,keep_prob=self.dropout_prob)\n",
    "            \n",
    "            layer_1 = tf.contrib.layers.fully_connected(\n",
    "                num_outputs=hidden_1_size,\n",
    "                inputs=droped_input,\n",
    "            )\n",
    "            layer_2 = tf.contrib.layers.fully_connected(\n",
    "                num_outputs=hidden_2_size,\n",
    "                inputs=layer_1,\n",
    "            )\n",
    "            self.logits = tf.contrib.layers.fully_connected(\n",
    "                num_outputs=num_classes,\n",
    "                activation_fn =None,\n",
    "                inputs=layer_2,\n",
    "            )\n",
    "        with tf.variable_scope(\"loss\"):\n",
    "            \n",
    "            self.losses = tf.nn.sparse_softmax_cross_entropy_with_logits(logits = self.logits, \n",
    "                                                                         labels = self.target_data)\n",
    "            mask = (1-tf.sign(1-self.target_data)) #Don't give credit for flat days\n",
    "            mask = tf.cast(mask,tf.float32)\n",
    "            self.loss = tf.reduce_sum(self.losses)\n",
    "        \n",
    "        with tf.name_scope(\"train\"):\n",
    "            opt = tf.train.AdamOptimizer(lr)\n",
    "            gvs = opt.compute_gradients(self.loss)\n",
    "            self.train_op = opt.apply_gradients(gvs, global_step=global_step)\n",
    "        \n",
    "        with tf.name_scope(\"predictions\"):\n",
    "            self.probs = tf.nn.softmax(self.logits)\n",
    "            self.predictions = tf.argmax(self.probs, 1)\n",
    "            correct_pred = tf.cast(tf.equal(self.predictions, tf.cast(self.target_data,tf.int64)),tf.float64)\n",
    "            self.accuracy = tf.reduce_mean(correct_pred)"
   ]
  },
  {
   "cell_type": "code",
   "execution_count": 468,
   "metadata": {},
   "outputs": [
    {
     "name": "stdout",
     "output_type": "stream",
     "text": [
      "WARNING:tensorflow:From <ipython-input-468-ae0dfdb5ea85>:7: initialize_all_variables (from tensorflow.python.ops.variables) is deprecated and will be removed after 2017-03-02.\n",
      "Instructions for updating:\n",
      "Use `tf.global_variables_initializer` instead.\n",
      "step - 600 loss - 419.2093040943146 acc - 1.0\n",
      "step - 1200 loss - 417.2555048465729 acc - 1.0\n",
      "step - 1800 loss - 417.2346202135086 acc - 1.0\n",
      "step - 2400 loss - 416.2016576528549 acc - 1.0\n",
      "step - 3000 loss - 415.71979638934135 acc - 1.0\n",
      "step - 3600 loss - 414.8969846665859 acc - 1.0\n",
      "step - 4200 loss - 415.8810990154743 acc - 1.0\n",
      "step - 4800 loss - 415.78498965501785 acc - 1.0\n",
      "step - 5400 loss - 414.56457966566086 acc - 1.0\n",
      "step - 6000 loss - 414.3590054810047 acc - 1.0\n",
      "step - 6600 loss - 414.5243852734566 acc - 1.0\n",
      "step - 7200 loss - 413.4972666800022 acc - 1.0\n",
      "step - 7800 loss - 414.7007949948311 acc - 1.0\n",
      "step - 8400 loss - 415.1870813071728 acc - 1.0\n",
      "step - 9000 loss - 413.92336907982826 acc - 0.0\n",
      "step - 9600 loss - 414.7711333334446 acc - 1.0\n",
      "step - 10200 loss - 413.981097638607 acc - 0.0\n",
      "step - 10800 loss - 413.9152930676937 acc - 1.0\n",
      "step - 11400 loss - 413.7775710821152 acc - 0.0\n",
      "step - 12000 loss - 414.0470404922962 acc - 0.0\n",
      "done training\n",
      "0.0\n",
      "1.0\n",
      "1.0\n",
      "1.0\n",
      "0.0\n",
      "1.0\n",
      "1.0\n",
      "1.0\n",
      "1.0\n",
      "0.0\n",
      "1.0\n",
      "0.0\n",
      "1.0\n",
      "0.0\n",
      "0.0\n",
      "1.0\n",
      "0.0\n",
      "0.0\n",
      "0.0\n",
      "1.0\n",
      "1.0\n",
      "0.0\n",
      "0.0\n",
      "0.0\n",
      "0.0\n",
      "1.0\n",
      "0.0\n",
      "0.0\n",
      "1.0\n",
      "0.0\n",
      "1.0\n",
      "1.0\n",
      "0.0\n",
      "1.0\n",
      "0.0\n",
      "0.0\n",
      "1.0\n",
      "1.0\n",
      "0.0\n",
      "1.0\n",
      "0.0\n",
      "1.0\n",
      "1.0\n",
      "1.0\n",
      "0.0\n",
      "0.0\n",
      "0.0\n",
      "0.0\n",
      "0.0\n",
      "1.0\n",
      "0.0\n",
      "1.0\n",
      "1.0\n",
      "0.0\n",
      "1.0\n",
      "0.0\n",
      "0.0\n",
      "0.0\n",
      "1.0\n",
      "1.0\n",
      "0.0\n",
      "0.0\n",
      "1.0\n",
      "1.0\n",
      "0.0\n",
      "0.0\n",
      "1.0\n",
      "1.0\n",
      "1.0\n",
      "0.0\n",
      "1.0\n",
      "1.0\n",
      "0.0\n",
      "1.0\n",
      "0.0\n",
      "0.0\n",
      "0.0\n",
      "1.0\n",
      "0.0\n",
      "1.0\n",
      "1.0\n",
      "0.0\n",
      "0.0\n",
      "0.0\n",
      "1.0\n",
      "1.0\n",
      "1.0\n",
      "0.0\n",
      "0.0\n",
      "0.0\n",
      "0.0\n",
      "0.0\n",
      "1.0\n",
      "1.0\n",
      "0.0\n",
      "0.0\n",
      "1.0\n",
      "1.0\n",
      "1.0\n",
      "1.0\n",
      "1.0\n",
      "0.0\n",
      "0.0\n",
      "1.0\n",
      "1.0\n",
      "1.0\n",
      "0.0\n",
      "0.0\n",
      "1.0\n",
      "0.0\n",
      "1.0\n",
      "1.0\n",
      "0.0\n",
      "1.0\n",
      "1.0\n",
      "0.0\n",
      "0.0\n",
      "0.0\n",
      "1.0\n",
      "0.0\n",
      "0.0\n",
      "1.0\n",
      "0.0\n",
      "0.0\n",
      "0.0\n",
      "0.0\n",
      "0.0\n",
      "0.0\n",
      "1.0\n",
      "1.0\n",
      "1.0\n",
      "0.0\n",
      "1.0\n",
      "0.0\n",
      "1.0\n",
      "0.0\n",
      "0.0\n",
      "0.0\n",
      "1.0\n",
      "0.0\n",
      "0.0\n",
      "0.0\n",
      "0.0\n",
      "1.0\n",
      "1.0\n",
      "0.0\n",
      "1.0\n",
      "0.0\n",
      "1.0\n",
      "0.0\n",
      "0.0\n",
      "1.0\n",
      "1.0\n",
      "1.0\n",
      "1.0\n",
      "1.0\n",
      "0.0\n",
      "0.0\n",
      "1.0\n",
      "1.0\n",
      "1.0\n",
      "1.0\n",
      "0.0\n",
      "1.0\n",
      "1.0\n",
      "1.0\n",
      "1.0\n",
      "1.0\n",
      "0.0\n",
      "0.0\n",
      "1.0\n",
      "1.0\n",
      "1.0\n",
      "0.0\n",
      "0.0\n",
      "1.0\n",
      "1.0\n",
      "0.0\n",
      "1.0\n"
     ]
    }
   ],
   "source": [
    "with tf.Graph().as_default():\n",
    "    model = Model()\n",
    "    input_ = train[0]\n",
    "    target = train[1]\n",
    "    losses = []\n",
    "    with tf.Session() as sess:\n",
    "        init = tf.initialize_all_variables()\n",
    "        sess.run([init])\n",
    "        epoch_loss =0\n",
    "        for e in range(NUM_EPOCHS):\n",
    "            if epoch_loss >0 and epoch_loss <1:\n",
    "                break\n",
    "            epoch_loss =0\n",
    "            for batch in range(0,NUM_TRAIN_BATCHES):\n",
    "                \n",
    "                start = batch*BATCH_SIZE\n",
    "                end = start + BATCH_SIZE \n",
    "                feed = {\n",
    "                    model.input_data:input_[start:end],\n",
    "                    model.target_data:target[start:end],\n",
    "                    model.dropout_prob:0.9\n",
    "                            }\n",
    "                \n",
    "                _,loss,acc = sess.run(\n",
    "                    [\n",
    "                        model.train_op,\n",
    "                        model.loss,\n",
    "                        model.accuracy,\n",
    "                    ]\n",
    "                    ,feed_dict=feed\n",
    "                )\n",
    "                epoch_loss+=loss\n",
    "            losses.append(epoch_loss)\n",
    "            print('step - {0} loss - {1} acc - {2}'.format((1+batch+NUM_TRAIN_BATCHES*e),epoch_loss,acc))\n",
    "                \n",
    "        \n",
    "        print('done training')\n",
    "        final_preds =np.array([])\n",
    "        final_probs =None\n",
    "        for batch in range(0,NUM_VAL_BATCHES):\n",
    "            \n",
    "                start = batch*BATCH_SIZE\n",
    "                end = start + BATCH_SIZE \n",
    "                feed = {\n",
    "                    model.input_data:val[0][start:end],\n",
    "                    model.target_data:val[1][start:end],\n",
    "                    model.dropout_prob:1\n",
    "                            }\n",
    "                \n",
    "                acc,preds,probs = sess.run(\n",
    "                    [\n",
    "                        model.accuracy,\n",
    "                        model.predictions,\n",
    "                        model.probs\n",
    "                    ]\n",
    "                    ,feed_dict=feed\n",
    "                )\n",
    "                print(acc)\n",
    "                final_preds = np.concatenate((final_preds,preds),axis=0)\n",
    "                if final_probs is None:\n",
    "                    final_probs = probs\n",
    "                else:\n",
    "                    final_probs = np.concatenate((final_probs,probs),axis=0)\n",
    "        prediction_conf = final_probs[np.argmax(final_probs, 1)]"
   ]
  },
  {
   "cell_type": "code",
   "execution_count": 469,
   "metadata": {},
   "outputs": [
    {
     "data": {
      "image/png": "[encoded data removed]",
      "text/plain": [
       "<matplotlib.figure.Figure at 0x120ab56d8>"
      ]
     },
     "metadata": {},
     "output_type": "display_data"
    }
   ],
   "source": [
    "plt.scatter(np.linspace(0, 1, len(losses)), losses);\n",
    "plt.title('Validation loss with epoch')\n",
    "plt.ylabel('Validation Loss')\n",
    "plt.xlabel('epoch progression');"
   ]
  },
  {
   "cell_type": "code",
   "execution_count": 470,
   "metadata": {},
   "outputs": [
    {
     "name": "stdout",
     "output_type": "stream",
     "text": [
      "             precision    recall  f1-score   support\n",
      "\n",
      "          0       0.44      0.51      0.47        83\n",
      "          1       0.51      0.44      0.47        96\n",
      "\n",
      "avg / total       0.47      0.47      0.47       179\n",
      "\n",
      "[[42 41]\n",
      " [54 42]]\n"
     ]
    }
   ],
   "source": [
    "print (classification_report(ytest.values, final_preds))\n",
    "print (confusion_matrix(ytest, final_preds))"
   ]
  },
  {
   "cell_type": "markdown",
   "metadata": {},
   "source": [
    "# Recursive Neural Nets"
   ]
  },
  {
   "cell_type": "code",
   "execution_count": 489,
   "metadata": {},
   "outputs": [],
   "source": [
    "from tensorflow.contrib.layers.python.layers.initializers import xavier_initializer\n",
    "from tensorflow.contrib import rnn\n",
    "\n",
    "RNN_HIDDEN_SIZE=4\n",
    "FIRST_LAYER_SIZE=50\n",
    "SECOND_LAYER_SIZE=10\n",
    "NUM_LAYERS=2\n",
    "BATCH_SIZE=1\n",
    "NUM_EPOCHS=25\n",
    "lr=0.0003\n",
    "NUM_TRAIN_BATCHES = int(len(train[0])/BATCH_SIZE)\n",
    "NUM_VAL_BATCHES = int(len(val[1])/BATCH_SIZE)\n",
    "ATTN_LENGTH=30\n",
    "beta=0\n",
    "np.random.RandomState(52);"
   ]
  },
  {
   "cell_type": "code",
   "execution_count": 490,
   "metadata": {
    "collapsed": true
   },
   "outputs": [],
   "source": [
    "class RNNModel():\n",
    "    def __init__(self):\n",
    "        global_step = tf.contrib.framework.get_or_create_global_step()\n",
    "        self.input_data = tf.placeholder(dtype=tf.float32,shape=[BATCH_SIZE,num_features])\n",
    "        self.target_data = tf.placeholder(dtype=tf.int32,shape=[BATCH_SIZE])\n",
    "        self.dropout_prob = tf.placeholder(dtype=tf.float32,shape=[])\n",
    "        \n",
    "        def makeGRUCells():\n",
    "            base_cell = rnn.GRUCell(num_units=RNN_HIDDEN_SIZE,) \n",
    "            layered_cell = rnn.MultiRNNCell([base_cell] * NUM_LAYERS,state_is_tuple=False) \n",
    "            attn_cell =tf.contrib.rnn.AttentionCellWrapper(cell=layered_cell,attn_length=ATTN_LENGTH,state_is_tuple=False)\n",
    "            return attn_cell\n",
    "        \n",
    "        self.gru_cell = makeGRUCells()\n",
    "        self.zero_state = self.gru_cell.zero_state(1, tf.float32)\n",
    "        \n",
    "        self.start_state = tf.placeholder(dtype=tf.float32,shape=[1,self.gru_cell.state_size])\n",
    "        \n",
    "        \n",
    "\n",
    "        with tf.variable_scope(\"ff\",initializer=xavier_initializer(uniform=False)):\n",
    "            droped_input = tf.nn.dropout(self.input_data,keep_prob=self.dropout_prob)\n",
    "            \n",
    "            layer_1 = tf.contrib.layers.fully_connected(\n",
    "                num_outputs=FIRST_LAYER_SIZE,\n",
    "                inputs=droped_input,\n",
    "                \n",
    "            )\n",
    "            layer_2 = tf.contrib.layers.fully_connected(\n",
    "                num_outputs=RNN_HIDDEN_SIZE,\n",
    "                inputs=layer_1,\n",
    "                \n",
    "            )\n",
    "            \n",
    "        \n",
    "        split_inputs = tf.reshape(droped_input,shape=[1,BATCH_SIZE,num_features],name=\"reshape_l1\") # Each item in the batch is a time step, iterate through them\n",
    "        split_inputs = tf.unstack(split_inputs,axis=1,name=\"unpack_l1\")\n",
    "        states =[]\n",
    "        outputs =[]\n",
    "        with tf.variable_scope(\"rnn\",initializer=xavier_initializer(uniform=False)) as scope:\n",
    "            state = self.start_state\n",
    "            for i, inp in enumerate(split_inputs):\n",
    "                if i >0:\n",
    "                    scope.reuse_variables()\n",
    "                \n",
    "                output, state = self.gru_cell(inp, state)\n",
    "                states.append(state)\n",
    "                outputs.append(output)\n",
    "        self.end_state = states[-1]\n",
    "        outputs = tf.stack(outputs,axis=1) # Pack them back into a single tensor\n",
    "        outputs = tf.reshape(outputs,shape=[BATCH_SIZE,RNN_HIDDEN_SIZE])\n",
    "        self.logits = tf.contrib.layers.fully_connected(\n",
    "            num_outputs=num_classes,\n",
    "            inputs=outputs,\n",
    "            activation_fn=None\n",
    "        )\n",
    "\n",
    "            \n",
    "        with tf.variable_scope(\"loss\"):\n",
    "            self.penalties =    tf.reduce_sum([beta*tf.nn.l2_loss(var) for var in tf.trainable_variables()])\n",
    "\n",
    "            \n",
    "            self.losses = tf.nn.sparse_softmax_cross_entropy_with_logits(logits = self.logits,\n",
    "                                                                         labels = self.target_data)\n",
    "            self.loss = tf.reduce_sum(self.losses + beta*self.penalties)\n",
    "        \n",
    "        with tf.name_scope(\"train_step\"):\n",
    "            opt = tf.train.AdamOptimizer(lr)\n",
    "            gvs = opt.compute_gradients(self.loss)\n",
    "            self.train_op = opt.apply_gradients(gvs, global_step=global_step)\n",
    "        \n",
    "        with tf.name_scope(\"predictions\"):\n",
    "            probs = tf.nn.softmax(self.logits)\n",
    "            self.predictions = tf.argmax(probs, 1)\n",
    "            correct_pred = tf.cast(tf.equal(self.predictions, tf.cast(self.target_data,tf.int64)),tf.float64)\n",
    "            self.accuracy = tf.reduce_mean(correct_pred)"
   ]
  },
  {
   "cell_type": "markdown",
   "metadata": {},
   "source": [
    "# training the RNN"
   ]
  },
  {
   "cell_type": "code",
   "execution_count": 491,
   "metadata": {},
   "outputs": [
    {
     "name": "stdout",
     "output_type": "stream",
     "text": [
      "WARNING:tensorflow:<tensorflow.contrib.rnn.python.ops.rnn_cell.AttentionCellWrapper object at 0x1210e60b8>: Using a concatenated state is slower and will soon be deprecated.  Use state_is_tuple=True.\n",
      "step - 0 loss - 417.21387165784836 acc - 0.0\n",
      "step - 1 loss - 416.0871697664261 acc - 0.0\n",
      "step - 2 loss - 415.7393709421158 acc - 0.0\n",
      "step - 3 loss - 416.2393338084221 acc - 0.0\n",
      "step - 4 loss - 415.31454586982727 acc - 0.0\n",
      "step - 5 loss - 416.07181894779205 acc - 1.0\n",
      "step - 6 loss - 415.53357696533203 acc - 0.0\n",
      "step - 7 loss - 415.31331557035446 acc - 0.0\n",
      "step - 8 loss - 415.38470923900604 acc - 0.0\n",
      "step - 9 loss - 415.98950189352036 acc - 0.0\n",
      "step - 10 loss - 414.35794323682785 acc - 0.0\n",
      "step - 11 loss - 414.7595503926277 acc - 1.0\n",
      "step - 12 loss - 415.2831164598465 acc - 0.0\n",
      "step - 13 loss - 416.1695525050163 acc - 0.0\n",
      "step - 14 loss - 414.42500281333923 acc - 1.0\n",
      "step - 15 loss - 415.21704733371735 acc - 1.0\n",
      "step - 16 loss - 415.33552449941635 acc - 1.0\n",
      "step - 17 loss - 414.18447881937027 acc - 1.0\n",
      "step - 18 loss - 415.9529753923416 acc - 1.0\n",
      "step - 19 loss - 414.1148049235344 acc - 0.0\n",
      "step - 20 loss - 415.9385293126106 acc - 1.0\n",
      "step - 21 loss - 414.4861587882042 acc - 1.0\n",
      "step - 22 loss - 414.63779467344284 acc - 0.0\n",
      "step - 23 loss - 416.98986756801605 acc - 0.0\n",
      "step - 24 loss - 414.942509829998 acc - 0.0\n",
      "0.0\n",
      "1.0\n",
      "1.0\n",
      "1.0\n",
      "0.0\n",
      "0.0\n",
      "0.0\n",
      "0.0\n",
      "1.0\n",
      "0.0\n",
      "1.0\n",
      "1.0\n",
      "1.0\n",
      "1.0\n",
      "1.0\n",
      "1.0\n",
      "0.0\n",
      "1.0\n",
      "0.0\n",
      "0.0\n",
      "1.0\n",
      "1.0\n",
      "1.0\n",
      "0.0\n",
      "1.0\n",
      "0.0\n",
      "0.0\n",
      "0.0\n",
      "0.0\n",
      "1.0\n",
      "0.0\n",
      "0.0\n",
      "0.0\n",
      "0.0\n",
      "0.0\n",
      "0.0\n",
      "1.0\n",
      "1.0\n",
      "1.0\n",
      "1.0\n",
      "0.0\n",
      "0.0\n",
      "1.0\n",
      "1.0\n",
      "0.0\n",
      "0.0\n",
      "1.0\n",
      "0.0\n",
      "1.0\n",
      "0.0\n",
      "0.0\n",
      "0.0\n",
      "1.0\n",
      "0.0\n",
      "0.0\n",
      "1.0\n",
      "0.0\n",
      "1.0\n",
      "1.0\n",
      "0.0\n",
      "0.0\n",
      "0.0\n",
      "1.0\n",
      "0.0\n",
      "0.0\n",
      "1.0\n",
      "0.0\n",
      "1.0\n",
      "1.0\n",
      "0.0\n",
      "1.0\n",
      "1.0\n",
      "0.0\n",
      "1.0\n",
      "1.0\n",
      "1.0\n",
      "0.0\n",
      "1.0\n",
      "0.0\n",
      "1.0\n",
      "0.0\n",
      "0.0\n",
      "1.0\n",
      "0.0\n",
      "1.0\n",
      "1.0\n",
      "0.0\n",
      "1.0\n",
      "1.0\n",
      "0.0\n",
      "0.0\n",
      "0.0\n",
      "1.0\n",
      "0.0\n",
      "0.0\n",
      "1.0\n",
      "1.0\n",
      "1.0\n",
      "0.0\n",
      "1.0\n",
      "1.0\n",
      "0.0\n",
      "0.0\n",
      "1.0\n",
      "1.0\n",
      "0.0\n",
      "0.0\n",
      "1.0\n",
      "1.0\n",
      "0.0\n",
      "1.0\n",
      "1.0\n",
      "1.0\n",
      "1.0\n",
      "1.0\n",
      "0.0\n",
      "1.0\n",
      "1.0\n",
      "0.0\n",
      "1.0\n",
      "1.0\n",
      "0.0\n",
      "1.0\n",
      "1.0\n",
      "1.0\n",
      "0.0\n",
      "0.0\n",
      "1.0\n",
      "0.0\n",
      "0.0\n",
      "1.0\n",
      "1.0\n",
      "0.0\n",
      "1.0\n",
      "1.0\n",
      "1.0\n",
      "1.0\n",
      "0.0\n",
      "1.0\n",
      "0.0\n",
      "1.0\n",
      "0.0\n",
      "1.0\n",
      "0.0\n",
      "1.0\n",
      "0.0\n",
      "0.0\n",
      "1.0\n",
      "1.0\n",
      "0.0\n",
      "0.0\n",
      "0.0\n",
      "1.0\n",
      "0.0\n",
      "0.0\n",
      "1.0\n",
      "1.0\n",
      "0.0\n",
      "0.0\n",
      "0.0\n",
      "1.0\n",
      "0.0\n",
      "1.0\n",
      "1.0\n",
      "0.0\n",
      "0.0\n",
      "1.0\n",
      "1.0\n",
      "1.0\n",
      "1.0\n",
      "1.0\n",
      "0.0\n",
      "0.0\n",
      "1.0\n",
      "1.0\n",
      "1.0\n",
      "0.0\n",
      "1.0\n",
      "1.0\n"
     ]
    }
   ],
   "source": [
    "with tf.Graph().as_default():\n",
    "    model = RNNModel()\n",
    "    input_ = train[0]\n",
    "    target = train[1]\n",
    "    losses = []\n",
    "    with tf.Session() as sess:\n",
    "        init = tf.global_variables_initializer()\n",
    "        sess.run([init])\n",
    "        loss = 2000\n",
    "        \n",
    "        for e in range(NUM_EPOCHS):\n",
    "            state = sess.run(model.zero_state)\n",
    "            epoch_loss =0\n",
    "            for batch in range(0,NUM_TRAIN_BATCHES):\n",
    "                start = batch*BATCH_SIZE\n",
    "                end = start + BATCH_SIZE \n",
    "                feed = {\n",
    "                    model.input_data:input_[start:end],\n",
    "                    model.target_data:target[start:end],\n",
    "                    model.dropout_prob:0.5,\n",
    "                    model.start_state:state\n",
    "                            }\n",
    "                _,loss,acc,state = sess.run(\n",
    "                    [\n",
    "                        model.train_op,\n",
    "                        model.loss,\n",
    "                        model.accuracy,\n",
    "                        model.end_state\n",
    "                    ]\n",
    "                    ,feed_dict=feed\n",
    "                )\n",
    "                epoch_loss+=loss\n",
    "            losses.append(epoch_loss)\n",
    "            print('step - {0} loss - {1} acc - {2}'.format((e),epoch_loss,acc))\n",
    "        final_preds =np.array([])\n",
    "        for batch in range(0,NUM_VAL_BATCHES):\n",
    "                start = batch*BATCH_SIZE\n",
    "                end = start + BATCH_SIZE \n",
    "                feed = {\n",
    "                    model.input_data:val[0][start:end],\n",
    "                    model.target_data:val[1][start:end],\n",
    "                    model.dropout_prob:1,\n",
    "                    model.start_state:state\n",
    "                            }\n",
    "                acc,preds,state = sess.run(\n",
    "                    [\n",
    "                        model.accuracy,\n",
    "                        model.predictions,\n",
    "                        model.end_state\n",
    "                    ]\n",
    "                    ,feed_dict=feed\n",
    "                )\n",
    "                print(acc)\n",
    "                assert len(preds) == BATCH_SIZE\n",
    "                final_preds = np.concatenate((final_preds,preds),axis=0)"
   ]
  },
  {
   "cell_type": "code",
   "execution_count": 492,
   "metadata": {},
   "outputs": [
    {
     "data": {
      "image/png": "[encoded data removed]",
      "text/plain": [
       "<matplotlib.figure.Figure at 0x12393e080>"
      ]
     },
     "metadata": {},
     "output_type": "display_data"
    }
   ],
   "source": [
    "plt.scatter(np.linspace(0, 1, len(losses)), losses);"
   ]
  },
  {
   "cell_type": "code",
   "execution_count": 493,
   "metadata": {},
   "outputs": [
    {
     "name": "stdout",
     "output_type": "stream",
     "text": [
      "             precision    recall  f1-score   support\n",
      "\n",
      "          0       0.45      0.39      0.42        83\n",
      "          1       0.53      0.59      0.56        96\n",
      "\n",
      "avg / total       0.49      0.50      0.49       179\n",
      "\n",
      "[[32 51]\n",
      " [39 57]]\n"
     ]
    }
   ],
   "source": [
    "print (classification_report(ytest.values, final_preds))\n",
    "print (confusion_matrix(ytest, final_preds))"
   ]
  },
  {
   "cell_type": "code",
   "execution_count": null,
   "metadata": {
    "collapsed": true
   },
   "outputs": [],
   "source": []
  },
  {
   "cell_type": "code",
   "execution_count": null,
   "metadata": {
    "collapsed": true
   },
   "outputs": [],
   "source": []
  },
  {
   "cell_type": "code",
   "execution_count": null,
   "metadata": {
    "collapsed": true
   },
   "outputs": [],
   "source": []
  },
  {
   "cell_type": "code",
   "execution_count": null,
   "metadata": {
    "collapsed": true
   },
   "outputs": [],
   "source": []
  },
  {
   "cell_type": "code",
   "execution_count": null,
   "metadata": {
    "collapsed": true
   },
   "outputs": [],
   "source": []
  },
  {
   "cell_type": "code",
   "execution_count": null,
   "metadata": {
    "collapsed": true
   },
   "outputs": [],
   "source": []
  },
  {
   "cell_type": "code",
   "execution_count": null,
   "metadata": {
    "collapsed": true
   },
   "outputs": [],
   "source": []
  },
  {
   "cell_type": "code",
   "execution_count": null,
   "metadata": {
    "collapsed": true
   },
   "outputs": [],
   "source": []
  },
  {
   "cell_type": "code",
   "execution_count": null,
   "metadata": {
    "collapsed": true
   },
   "outputs": [],
   "source": []
  },
  {
   "cell_type": "code",
   "execution_count": null,
   "metadata": {
    "collapsed": true
   },
   "outputs": [],
   "source": []
  },
  {
   "cell_type": "code",
   "execution_count": null,
   "metadata": {
    "collapsed": true
   },
   "outputs": [],
   "source": []
  },
  {
   "cell_type": "code",
   "execution_count": null,
   "metadata": {
    "collapsed": true
   },
   "outputs": [],
   "source": []
  },
  {
   "cell_type": "code",
   "execution_count": null,
   "metadata": {
    "collapsed": true
   },
   "outputs": [],
   "source": []
  },
  {
   "cell_type": "code",
   "execution_count": null,
   "metadata": {
    "collapsed": true
   },
   "outputs": [],
   "source": []
  },
  {
   "cell_type": "code",
   "execution_count": null,
   "metadata": {
    "collapsed": true
   },
   "outputs": [],
   "source": []
  },
  {
   "cell_type": "code",
   "execution_count": null,
   "metadata": {
    "collapsed": true
   },
   "outputs": [],
   "source": []
  },
  {
   "cell_type": "code",
   "execution_count": null,
   "metadata": {
    "collapsed": true
   },
   "outputs": [],
   "source": []
  },
  {
   "cell_type": "code",
   "execution_count": null,
   "metadata": {
    "collapsed": true
   },
   "outputs": [],
   "source": []
  },
  {
   "cell_type": "code",
   "execution_count": null,
   "metadata": {
    "collapsed": true
   },
   "outputs": [],
   "source": []
  }
 ],
 "metadata": {
  "anaconda-cloud": {},
  "kernelspec": {
   "display_name": "Python [Root]",
   "language": "python",
   "name": "Python [Root]"
  },
  "language_info": {
   "codemirror_mode": {
    "name": "ipython",
    "version": 3
   },
   "file_extension": ".py",
   "mimetype": "text/x-python",
   "name": "python",
   "nbconvert_exporter": "python",
   "pygments_lexer": "ipython3",
   "version": "3.5.2"
  }
 },
 "nbformat": 4,
 "nbformat_minor": 2
}
